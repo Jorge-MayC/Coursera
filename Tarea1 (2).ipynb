{
  "metadata": {
    "language_info": {
      "codemirror_mode": {
        "name": "python",
        "version": 3
      },
      "file_extension": ".py",
      "mimetype": "text/x-python",
      "name": "python",
      "nbconvert_exporter": "python",
      "pygments_lexer": "ipython3",
      "version": "3.8"
    },
    "kernelspec": {
      "name": "python",
      "display_name": "Python (Pyodide)",
      "language": "python"
    }
  },
  "nbformat_minor": 4,
  "nbformat": 4,
  "cells": [
    {
      "cell_type": "markdown",
      "source": "# Tarea Final: Mi Cuaderno de Jupyterlite",
      "metadata": {}
    },
    {
      "cell_type": "markdown",
      "source": "## Introducción\n¡Hola! En este cuaderno, exploraremos diferentes aspectos de la ciencia de datos utilizando Jupyterlite Notebook. A lo largo del proyecto final, utilizaremos markdown y celdas de código para completar diversas tareas. ¡Comencemos!",
      "metadata": {}
    },
    {
      "cell_type": "markdown",
      "source": "## Lenguajes de Ciencia de Datos\n- Python\n- R\n- Julia\n- SQL",
      "metadata": {}
    },
    {
      "cell_type": "markdown",
      "source": "## Bibliotecas de Ciencia de Datos\n- NumPy\n- Pandas\n- Matplotlib\n- Seaborn\n- Scikit-learn",
      "metadata": {}
    },
    {
      "cell_type": "markdown",
      "source": "## Herramientas de Ciencia de Datos\n\n| Herramienta     | Descripción                                        |\n|-----------------|----------------------------------------------------|\n| Jupyter Notebook| Entorno interactivo para programación y análisis    |\n| TensorFlow     | Biblioteca de aprendizaje automático de código abierto|\n| PyTorch         | Biblioteca de aprendizaje profundo de código abierto |\n| Apache Spark    | Sistema de procesamiento de big data                |",
      "metadata": {}
    },
    {
      "cell_type": "markdown",
      "source": "## Ejemplos de Expresiones Aritméticas\nA continuación, veremos algunos ejemplos de expresiones aritméticas utilizando operadores básicos como suma, resta, multiplicación y división.",
      "metadata": {}
    },
    {
      "cell_type": "markdown",
      "source": "### Multiplicación",
      "metadata": {}
    },
    {
      "cell_type": "code",
      "source": "# Multiplicación\na = 5\nb = 3\nmultiplication = a * b\n\n# Impresión\nprint(\"a =\",a)\nprint(\"b =\",b)\nprint(\"multiplication = a * b =\",multiplication)",
      "metadata": {
        "trusted": true
      },
      "execution_count": 6,
      "outputs": [
        {
          "name": "stdout",
          "text": "a = 5\nb = 3\nmultiplication = a * b = 15\n",
          "output_type": "stream"
        }
      ]
    },
    {
      "cell_type": "markdown",
      "source": "### Suma",
      "metadata": {}
    },
    {
      "cell_type": "code",
      "source": "# Suma\nc = 10\nd = 2\naddition = c + d\n\n# Impresión\nprint(\"c =\",c)\nprint(\"d =\",d)\nprint(\"addition = c + d = \",addition)",
      "metadata": {
        "trusted": true
      },
      "execution_count": 9,
      "outputs": [
        {
          "name": "stdout",
          "text": "c = 10\nd = 2\naddition = c + d =  12\n",
          "output_type": "stream"
        }
      ]
    },
    {
      "cell_type": "markdown",
      "source": "## Programa para convertir minutos a horas",
      "metadata": {}
    },
    {
      "cell_type": "code",
      "source": "# Exercise 9 - Create a code cell to convert minutes to hours. (2 pts)\nminutes = 150\nhours = minutes / 60\n\nprint(\"Hours:\", hours)",
      "metadata": {
        "trusted": true
      },
      "execution_count": 13,
      "outputs": [
        {
          "name": "stdout",
          "text": "Hours: 2.5\n",
          "output_type": "stream"
        }
      ]
    },
    {
      "cell_type": "markdown",
      "source": "## Objetivos\n- Completar todas las tareas requeridas en el proyecto final.\n- Utilizar Jupyterlite Notebook para crear un cuaderno público.\n- Incluir markdown y celdas de código según las indicaciones.\n- Compartir el cuaderno a través de GitHub.\n- Cumplir con los criterios de evaluación establecidos.",
      "metadata": {}
    },
    {
      "cell_type": "markdown",
      "source": "## Autor\nJorge Alberto May Cuj",
      "metadata": {}
    }
  ]
}